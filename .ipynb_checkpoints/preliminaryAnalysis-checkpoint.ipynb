{
 "cells": [
  {
   "cell_type": "code",
   "execution_count": 150,
   "id": "56a24987",
   "metadata": {
    "collapsed": true,
    "jupyter": {
     "outputs_hidden": true
    }
   },
   "outputs": [
    {
     "name": "stdout",
     "output_type": "stream",
     "text": [
      "Requirement already satisfied: translate in c:\\users\\39349\\anaconda3\\lib\\site-packages (3.6.1)\n",
      "Requirement already satisfied: libretranslatepy==2.1.1 in c:\\users\\39349\\anaconda3\\lib\\site-packages (from translate) (2.1.1)\n",
      "Requirement already satisfied: lxml in c:\\users\\39349\\anaconda3\\lib\\site-packages (from translate) (4.6.3)\n",
      "Requirement already satisfied: requests in c:\\users\\39349\\anaconda3\\lib\\site-packages (from translate) (2.27.1)\n",
      "Requirement already satisfied: click in c:\\users\\39349\\anaconda3\\lib\\site-packages (from translate) (8.0.1)\n",
      "Requirement already satisfied: colorama in c:\\users\\39349\\anaconda3\\lib\\site-packages (from click->translate) (0.4.4)\n",
      "Requirement already satisfied: importlib-metadata in c:\\users\\39349\\anaconda3\\lib\\site-packages (from click->translate) (3.10.0)\n",
      "Requirement already satisfied: idna<4,>=2.5 in c:\\users\\39349\\anaconda3\\lib\\site-packages (from requests->translate) (3.2)\n",
      "Requirement already satisfied: urllib3<1.27,>=1.21.1 in c:\\users\\39349\\anaconda3\\lib\\site-packages (from requests->translate) (1.26.6)\n",
      "Requirement already satisfied: certifi>=2017.4.17 in c:\\users\\39349\\anaconda3\\lib\\site-packages (from requests->translate) (2021.5.30)\n",
      "Requirement already satisfied: charset-normalizer~=2.0.0 in c:\\users\\39349\\anaconda3\\lib\\site-packages (from requests->translate) (2.0.4)\n",
      "Requirement already satisfied: typing-extensions>=3.6.4 in c:\\users\\39349\\anaconda3\\lib\\site-packages (from importlib-metadata->click->translate) (3.7.4.3)\n",
      "Requirement already satisfied: zipp>=0.5 in c:\\users\\39349\\anaconda3\\lib\\site-packages (from importlib-metadata->click->translate) (3.5.0)\n"
     ]
    },
    {
     "name": "stderr",
     "output_type": "stream",
     "text": [
      "WARNING: You are using pip version 22.0.4; however, version 22.2.2 is available.\n",
      "You should consider upgrading via the 'C:\\Users\\39349\\anaconda3\\python.exe -m pip install --upgrade pip' command.\n"
     ]
    }
   ],
   "source": [
    "!pip install translate"
   ]
  },
  {
   "cell_type": "code",
   "execution_count": 154,
   "id": "c0e47d42",
   "metadata": {},
   "outputs": [],
   "source": [
    "import pandas as pd \n",
    "import numpy as np\n",
    "import matplotlib.pyplot as plt\n",
    "from translate import Translator as tr"
   ]
  },
  {
   "cell_type": "code",
   "execution_count": 204,
   "id": "93db9969",
   "metadata": {},
   "outputs": [
    {
     "ename": "SyntaxError",
     "evalue": "invalid syntax (Temp/ipykernel_31296/2223958753.py, line 22)",
     "output_type": "error",
     "traceback": [
      "\u001b[1;36m  File \u001b[1;32m\"C:\\Users\\39349\\AppData\\Local\\Temp/ipykernel_31296/2223958753.py\"\u001b[1;36m, line \u001b[1;32m22\u001b[0m\n\u001b[1;33m    try{}\u001b[0m\n\u001b[1;37m       ^\u001b[0m\n\u001b[1;31mSyntaxError\u001b[0m\u001b[1;31m:\u001b[0m invalid syntax\n"
     ]
    }
   ],
   "source": [
    "class TextLengthExceededError(Exception):\n",
    "    def __init__(self, length, message = f\"Text size is exceeded available limit of 500 characters.\"):\n",
    "        self.length = length\n",
    "        self.message = message\n",
    "        super().__init__(self.message)\n",
    "    def __str__(self):\n",
    "        return f\"{self.message} Actual size is {self.length}\"\n",
    "\n",
    "\n",
    "class ItalianToEnglishTranslator:\n",
    "    from translate import Translator as tr\n",
    "    \n",
    "    def translate(self, value):\n",
    "        translator = tr(to_lang=\"en\",from_lang=\"it\")\n",
    "        if len(value)>500:\n",
    "            raise TextLengthExceededError(len(value))\n",
    "        return translator.translate(value)\n",
    "    \n",
    "    \n",
    "    def translateList(self, listOfValues):\n",
    "        listOfTranslatedValues = []\n",
    "        for value in listOfValues:\n",
    "            try:\n",
    "                listOfTranslatedValues.append(Translate(value))\n",
    "            except TextLengthExceededError:\n",
    "                \n",
    "        return listOfTranslatedValues\n",
    "    \n",
    "    def __prepareValue(self, value):\n",
    "        if value<500:\n",
    "            return value\n",
    "        \n",
    "    \n",
    "    "
   ]
  },
  {
   "cell_type": "code",
   "execution_count": 199,
   "id": "dbadc817",
   "metadata": {},
   "outputs": [],
   "source": [
    "rawItalianColumns = pd.read_excel(\"D:/PHD/Projects/data/report.xlsx\",usecols=\"A\", engine=\"openpyxl\", sheet_name=\"Questionario_2781022573\")\n",
    "responseColumns = pd.read_excel(\"D:/PHD/Projects/data/report.xlsx\",skiprows=12,nrows=1, engine=\"openpyxl\", sheet_name=\"Risposte_2781022573\")\n",
    "responseColumns.drop(\"Unnamed: 0\", axis = 1, inplace=True)\n",
    "responseColumns = responseColumns.columns.to_list()\n",
    "responseColumns = [responseColumns[x].replace(\",\", \".\",) for x in range(len(responseColumns))]\n",
    "\n",
    "responseColumnsValues = []\n",
    "\n",
    "for i in range(len(rawItalianColumns)):\n",
    "    try:\n",
    "        if any(responseColumns[x] in rawItalianColumns.iloc[i, 0] for x in range(len(responseColumns))):\n",
    "            responseColumnsValues.append(rawItalianColumns.iloc[i, 0])\n",
    "    except TypeError:\n",
    "        pass"
   ]
  },
  {
   "cell_type": "code",
   "execution_count": 203,
   "id": "8033b817",
   "metadata": {},
   "outputs": [
    {
     "data": {
      "text/plain": [
       "'2.1 . Sex'"
      ]
     },
     "execution_count": 203,
     "metadata": {},
     "output_type": "execute_result"
    }
   ],
   "source": [
    "translator = ItalianToEnglishTranslator()\n",
    "translator.Translate(responseColumnsValues[1])\n"
   ]
  },
  {
   "cell_type": "code",
   "execution_count": 170,
   "id": "9a4215af",
   "metadata": {},
   "outputs": [
    {
     "data": {
      "text/plain": [
       "'4.3 Solitamente a che ora esci da lavoro? (in hh:mm, ad es. 18:00)'"
      ]
     },
     "execution_count": 170,
     "metadata": {},
     "output_type": "execute_result"
    }
   ],
   "source": [
    "for text in responseColumnsValues:\n",
    "    if "
   ]
  },
  {
   "cell_type": "code",
   "execution_count": null,
   "id": "116d738b",
   "metadata": {},
   "outputs": [],
   "source": [
    "\n",
    "        "
   ]
  },
  {
   "cell_type": "code",
   "execution_count": 176,
   "id": "a237f92f",
   "metadata": {},
   "outputs": [
    {
     "data": {
      "text/plain": [
       "\u001b[1;31mInit signature:\u001b[0m \u001b[0msuper\u001b[0m\u001b[1;33m(\u001b[0m\u001b[0mself\u001b[0m\u001b[1;33m,\u001b[0m \u001b[1;33m/\u001b[0m\u001b[1;33m,\u001b[0m \u001b[1;33m*\u001b[0m\u001b[0margs\u001b[0m\u001b[1;33m,\u001b[0m \u001b[1;33m**\u001b[0m\u001b[0mkwargs\u001b[0m\u001b[1;33m)\u001b[0m\u001b[1;33m\u001b[0m\u001b[0m\n",
       "\u001b[1;31mDocstring:\u001b[0m     \n",
       "super() -> same as super(__class__, <first argument>)\n",
       "super(type) -> unbound super object\n",
       "super(type, obj) -> bound super object; requires isinstance(obj, type)\n",
       "super(type, type2) -> bound super object; requires issubclass(type2, type)\n",
       "Typical use to call a cooperative superclass method:\n",
       "class C(B):\n",
       "    def meth(self, arg):\n",
       "        super().meth(arg)\n",
       "This works for class methods too:\n",
       "class C(B):\n",
       "    @classmethod\n",
       "    def cmeth(cls, arg):\n",
       "        super().cmeth(arg)\n",
       "\u001b[1;31mType:\u001b[0m           type\n",
       "\u001b[1;31mSubclasses:\u001b[0m     \n"
      ]
     },
     "metadata": {},
     "output_type": "display_data"
    }
   ],
   "source": []
  },
  {
   "cell_type": "code",
   "execution_count": null,
   "id": "4020351d",
   "metadata": {},
   "outputs": [],
   "source": []
  },
  {
   "cell_type": "code",
   "execution_count": null,
   "id": "39836b2c",
   "metadata": {},
   "outputs": [],
   "source": []
  }
 ],
 "metadata": {
  "kernelspec": {
   "display_name": "Python [conda env:root] *",
   "language": "python",
   "name": "conda-root-py"
  },
  "language_info": {
   "codemirror_mode": {
    "name": "ipython",
    "version": 3
   },
   "file_extension": ".py",
   "mimetype": "text/x-python",
   "name": "python",
   "nbconvert_exporter": "python",
   "pygments_lexer": "ipython3",
   "version": "3.7.0"
  }
 },
 "nbformat": 4,
 "nbformat_minor": 5
}
