{
 "cells": [
  {
   "cell_type": "code",
   "execution_count": null,
   "id": "cadf8f22",
   "metadata": {},
   "outputs": [],
   "source": [
    "!pip install translate\n",
    "!pip install googletrans==4.0.0-rc1"
   ]
  },
  {
   "cell_type": "code",
   "execution_count": 1,
   "id": "8fc626aa",
   "metadata": {},
   "outputs": [],
   "source": [
    "import pandas as pd \n",
    "import numpy as np\n",
    "import matplotlib.pyplot as plt\n",
    "dataBasePath = \"D:/PHD/Projects/data\""
   ]
  },
  {
   "cell_type": "code",
   "execution_count": 6,
   "id": "66ac8e86",
   "metadata": {},
   "outputs": [],
   "source": [
    "from googletrans import Translator as tr\n",
    "import textwrap as txt\n",
    "import pandas as pd\n",
    "\n",
    "class TextLengthExceededError(Exception):\n",
    "    def __init__(self, length, message = f\"Text size is exceeded available limit of 500 characters.\"):\n",
    "        self.length = length\n",
    "        self.message = message\n",
    "        super().__init__(self.message)\n",
    "    def __str__(self):\n",
    "        return f\"{self.message} Actual size is {self.length}\"\n",
    "\n",
    "\n",
    "class ItalianToEnglishTranslator:\n",
    "    \n",
    "    def translate(self, value):\n",
    "        translator = tr()\n",
    "        if len(value)>500:\n",
    "            raise TextLengthExceededError(len(value))\n",
    "        return translator.translate(value, dest=\"en\", src=\"it\").text\n",
    "    \n",
    "    \n",
    "    def translateList(self, listOfValues):\n",
    "        listOfTranslatedValues = []\n",
    "        for value in listOfValues:\n",
    "            try:\n",
    "                listOfTranslatedValues.append(self.translate(value))\n",
    "            except TextLengthExceededError:\n",
    "                longValueSplitted = self.__prepareValue(value)\n",
    "                longValueTranslation = []\n",
    "                for sentence in longValueSplitted:\n",
    "                    longValueTranslation.append(self.translate(sentence))\n",
    "                listOfTranslatedValues.append(longValueTranslation)\n",
    "        return listOfTranslatedValues\n",
    "    \n",
    "    def __prepareValue(self, value, limit=-1):\n",
    "        valueLength = len(value)\n",
    "        if valueLength<limit:\n",
    "            return [value]\n",
    "        return value.split(\".\", maxsplit=limit)\n",
    "    \n",
    "    \n",
    "    \n",
    "class DatabaseHelper:\n",
    "    \n",
    "    def extractColumnsForTranslation(self, path, surveySheetName, responseSheetName, surveyColumnsLocation=\"A\", \n",
    "                                    responseColumnsLocation=12):\n",
    "        \n",
    "        rawItalianColumns = pd.read_excel(path, usecols=surveyColumnsLocation, engine=\"openpyxl\", sheet_name=surveySheetName)\n",
    "        responseColumns = pd.read_excel(path, skiprows=responseColumnsLocation, nrows=1, \n",
    "                                        engine=\"openpyxl\", sheet_name=responseSheetName)\n",
    "        if 'Unnamed: 0' in responseColumns.columns:\n",
    "            responseColumns.drop(\"Unnamed: 0\", axis = 1, inplace=True)\n",
    "            \n",
    "        responseColumns = responseColumns.columns.to_list()\n",
    "        responseColumns = [responseColumns[x].replace(\",\", \".\",) for x in range(len(responseColumns))]\n",
    "\n",
    "        responseColumnsValues = []\n",
    "\n",
    "        for i in range(len(rawItalianColumns)):\n",
    "            try:\n",
    "                if any(responseColumns[x] in rawItalianColumns.iloc[i, 0] for x in range(len(responseColumns))):\n",
    "                    responseColumnsValues.append(rawItalianColumns.iloc[i, 0])\n",
    "            except TypeError:\n",
    "                pass\n",
    "        \n",
    "        return responseColumnsValues\n",
    "        \n",
    "        \n",
    "    \n",
    "    "
   ]
  },
  {
   "cell_type": "code",
   "execution_count": 7,
   "id": "3ae46a82",
   "metadata": {},
   "outputs": [],
   "source": [
    "dbHelper = DatabaseHelper()\n",
    "respCol = dbHelper.extractColumnsForTranslation(f\"{dataBasePath}/report.xlsx\", \"Questionario_2781022573\", \"Risposte_2781022573\")\n",
    "\n",
    "translator = ItalianToEnglishTranslator()\n",
    "translatedColumnNames = translator.translateList(responseColumnsValues)\n",
    "translatedColumnsDataframe = pd.DataFrame(translatedColumnNames)\n",
    "translatedColumnsDataframe.to_csv(f\"{dataBasePath}/surveyColumnsInEnglish.csv\")"
   ]
  },
  {
   "cell_type": "code",
   "execution_count": null,
   "id": "5f31f7de",
   "metadata": {},
   "outputs": [],
   "source": []
  },
  {
   "cell_type": "code",
   "execution_count": null,
   "id": "f5d3b178",
   "metadata": {},
   "outputs": [],
   "source": []
  },
  {
   "cell_type": "code",
   "execution_count": null,
   "id": "15ce05f2",
   "metadata": {},
   "outputs": [],
   "source": []
  },
  {
   "cell_type": "code",
   "execution_count": null,
   "id": "54432c26",
   "metadata": {},
   "outputs": [],
   "source": [
    "testTranslator = tr()\n",
    "translated = testTranslator.translate(responseColumnsValues[0], dest=\"en\", src=\"it\")\n"
   ]
  },
  {
   "cell_type": "code",
   "execution_count": null,
   "id": "b6bf458e",
   "metadata": {},
   "outputs": [],
   "source": [
    "translated.src"
   ]
  },
  {
   "cell_type": "code",
   "execution_count": null,
   "id": "fc277a0f",
   "metadata": {},
   "outputs": [],
   "source": [
    "path"
   ]
  }
 ],
 "metadata": {
  "kernelspec": {
   "display_name": "Python [conda env:root] *",
   "language": "python",
   "name": "conda-root-py"
  },
  "language_info": {
   "codemirror_mode": {
    "name": "ipython",
    "version": 3
   },
   "file_extension": ".py",
   "mimetype": "text/x-python",
   "name": "python",
   "nbconvert_exporter": "python",
   "pygments_lexer": "ipython3",
   "version": "3.7.0"
  }
 },
 "nbformat": 4,
 "nbformat_minor": 5
}
