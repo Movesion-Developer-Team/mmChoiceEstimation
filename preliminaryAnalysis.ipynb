{
 "cells": [
  {
   "cell_type": "code",
   "execution_count": 1,
   "id": "88bf9b39",
   "metadata": {
    "pycharm": {
     "name": "#%%\n"
    }
   },
   "outputs": [
    {
     "data": {
      "text/plain": "'C:\\\\Users\\\\39349\\\\.virtualenvs\\\\mm\\\\Scripts'"
     },
     "execution_count": 1,
     "metadata": {},
     "output_type": "execute_result"
    }
   ],
   "source": [
    "import os\n",
    "import sys\n",
    "os.path.dirname(sys.executable)"
   ]
  },
  {
   "cell_type": "code",
   "execution_count": 2,
   "id": "38c295ff",
   "metadata": {
    "pycharm": {
     "name": "#%%\n"
    }
   },
   "outputs": [],
   "source": [
    "import startup\n",
    "from helpers.databaseHelper import DatabaseHelper\n",
    "from helpers.customTranslator import ItalianToEnglishTranslator\n",
    "import matplotlib.pyplot as plt\n",
    "dataBasePath = \"D:/PHD/Projects/data\""
   ]
  },
  {
   "cell_type": "markdown",
   "source": [],
   "metadata": {
    "collapsed": false,
    "pycharm": {
     "name": "#%% md\n"
    }
   }
  },
  {
   "cell_type": "markdown",
   "id": "3762b0eb",
   "metadata": {
    "pycharm": {
     "name": "#%% md\n"
    }
   },
   "source": [
    "dbHelper = DatabaseHelper()\n",
    "respCol = dbHelper.extractColumnsForTranslation(f\"{dataBasePath}/report.xlsx\", \"Questionario_2781022573\", \"Risposte_2781022573\")\n",
    "\n",
    "translator = ItalianToEnglishTranslator()\n",
    "translatedColumnNames = translator.translateList(responseColumnsValues)\n",
    "translatedColumnsDataframe = pd.DataFrame(translatedColumnNames)\n",
    "translatedColumnsDataframe.to_csv(f\"{dataBasePath}/surveyColumnsInEnglish.csv\")"
   ]
  },
  {
   "cell_type": "code",
   "execution_count": 4,
   "id": "85d7f702",
   "metadata": {
    "pycharm": {
     "name": "#%%\n"
    }
   },
   "outputs": [],
   "source": [
    "import pandas as pd\n",
    "\n",
    "columnsInEnglish = pd.read_csv(f\"{dataBasePath}/surveyColumnsInEnglish.csv\", index_col=\"Unnamed: 0\").iloc[:, 0]\n",
    "data = pd.read_excel(f\"{dataBasePath}/report.xlsx\", engine=\"openpyxl\", sheet_name=\"Risposte_2781022573\", skiprows=12)\n",
    "data.drop(columns=[\"Unnamed: 0\", \"1,1\", \"3,1\"], axis = 1, inplace=True)\n"
   ]
  },
  {
   "cell_type": "code",
   "execution_count": 5,
   "id": "692164cb",
   "metadata": {
    "jupyter": {
     "outputs_hidden": false
    },
    "pycharm": {
     "name": "#%%\n"
    }
   },
   "outputs": [
    {
     "data": {
      "text/plain": "       2,1               2,2  \\\n0  maschio  fra 31 e 40 anni   \n1  maschio    più di 60 anni   \n2  maschio  fra 51 e 60 anni   \n3  femmina  fra 41 e 50 anni   \n4  femmina  fra 31 e 40 anni   \n\n                                                 2,3 2,4 2,5  \\\n0   Via Privata Taverna, 28, 20134 Milano MI, Italia   1  no   \n1  Salita Inferiore di Sant'Anna, 17, 16125 Genov...   2  no   \n2            Via Ajaccio, 6, 20133 Milano MI, Italia   3  no   \n3  Corso di Porta Vittoria, 32, 20122 Milano MI, ...   4  no   \n4        Viale Sabotino, 14, 20135 Milano MI, Italia   1  no   \n\n                                                 3,2 3,3 3,4  \\\n0  impiegato/operaio/collaboratore occasionale/st...  sì  sì   \n1  impiegato/operaio/collaboratore occasionale/st...  sì  sì   \n2  impiegato/operaio/collaboratore occasionale/st...  sì  sì   \n3  impiegato/operaio/collaboratore occasionale/st...  sì  sì   \n4  impiegato/operaio/collaboratore occasionale/st...  sì  sì   \n\n                             3,5  \\\n0     professionista/partita iva   \n1                     consulente   \n2  assunto a tempo indeterminato   \n3  assunto a tempo indeterminato   \n4  assunto a tempo indeterminato   \n\n                                                 3,6  ... 10,4 10,5  \\\n0  regime misto (telelavoro/smart working e quals...  ...   sì   sì   \n1                                      orario libero  ...   no   sì   \n2                     full time 5 giorni a settimana  ...   sì   sì   \n3                              part time orizzontale  ...   sì   sì   \n4                     full time 5 giorni a settimana  ...   sì   sì   \n\n                        10,6 10,7 10,8  \\\n0           bici/monopattino   no   sì   \n1                      piedi   no   no   \n2                      piedi   sì   sì   \n3  trasporto pubblico locale   no   sì   \n4           bici/monopattino   sì   sì   \n\n                                                11,1  \\\n0                         non posseggo un’automobile   \n1  sì, utilizzerei il trasporto pubblico al posto...   \n2      no, mi sento sicuro solo con il mezzo privato   \n3  sì, utilizzerei il trasporto pubblico al posto...   \n4                         non posseggo un’automobile   \n\n                                                11,2 11,3        Lat       Lon  \n0  sì, ma solo per alcuni giorni a settimana/al mese  NaN  45.468849  9.256105  \n1             sì, per tutto il mio orario lavorativo  NaN   44.41235  8.935417  \n2  sì, ma solo per alcuni giorni a settimana/al mese  NaN  45.469897  9.235276  \n3  sì, ma solo per alcuni giorni a settimana/al mese  NaN  45.461996  9.203025  \n4  sì, ma solo per alcuni giorni a settimana/al mese  NaN   45.45077  9.199955  \n\n[5 rows x 92 columns]",
      "text/html": "<div>\n<style scoped>\n    .dataframe tbody tr th:only-of-type {\n        vertical-align: middle;\n    }\n\n    .dataframe tbody tr th {\n        vertical-align: top;\n    }\n\n    .dataframe thead th {\n        text-align: right;\n    }\n</style>\n<table border=\"1\" class=\"dataframe\">\n  <thead>\n    <tr style=\"text-align: right;\">\n      <th></th>\n      <th>2,1</th>\n      <th>2,2</th>\n      <th>2,3</th>\n      <th>2,4</th>\n      <th>2,5</th>\n      <th>3,2</th>\n      <th>3,3</th>\n      <th>3,4</th>\n      <th>3,5</th>\n      <th>3,6</th>\n      <th>...</th>\n      <th>10,4</th>\n      <th>10,5</th>\n      <th>10,6</th>\n      <th>10,7</th>\n      <th>10,8</th>\n      <th>11,1</th>\n      <th>11,2</th>\n      <th>11,3</th>\n      <th>Lat</th>\n      <th>Lon</th>\n    </tr>\n  </thead>\n  <tbody>\n    <tr>\n      <th>0</th>\n      <td>maschio</td>\n      <td>fra 31 e 40 anni</td>\n      <td>Via Privata Taverna, 28, 20134 Milano MI, Italia</td>\n      <td>1</td>\n      <td>no</td>\n      <td>impiegato/operaio/collaboratore occasionale/st...</td>\n      <td>sì</td>\n      <td>sì</td>\n      <td>professionista/partita iva</td>\n      <td>regime misto (telelavoro/smart working e quals...</td>\n      <td>...</td>\n      <td>sì</td>\n      <td>sì</td>\n      <td>bici/monopattino</td>\n      <td>no</td>\n      <td>sì</td>\n      <td>non posseggo un’automobile</td>\n      <td>sì, ma solo per alcuni giorni a settimana/al mese</td>\n      <td>NaN</td>\n      <td>45.468849</td>\n      <td>9.256105</td>\n    </tr>\n    <tr>\n      <th>1</th>\n      <td>maschio</td>\n      <td>più di 60 anni</td>\n      <td>Salita Inferiore di Sant'Anna, 17, 16125 Genov...</td>\n      <td>2</td>\n      <td>no</td>\n      <td>impiegato/operaio/collaboratore occasionale/st...</td>\n      <td>sì</td>\n      <td>sì</td>\n      <td>consulente</td>\n      <td>orario libero</td>\n      <td>...</td>\n      <td>no</td>\n      <td>sì</td>\n      <td>piedi</td>\n      <td>no</td>\n      <td>no</td>\n      <td>sì, utilizzerei il trasporto pubblico al posto...</td>\n      <td>sì, per tutto il mio orario lavorativo</td>\n      <td>NaN</td>\n      <td>44.41235</td>\n      <td>8.935417</td>\n    </tr>\n    <tr>\n      <th>2</th>\n      <td>maschio</td>\n      <td>fra 51 e 60 anni</td>\n      <td>Via Ajaccio, 6, 20133 Milano MI, Italia</td>\n      <td>3</td>\n      <td>no</td>\n      <td>impiegato/operaio/collaboratore occasionale/st...</td>\n      <td>sì</td>\n      <td>sì</td>\n      <td>assunto a tempo indeterminato</td>\n      <td>full time 5 giorni a settimana</td>\n      <td>...</td>\n      <td>sì</td>\n      <td>sì</td>\n      <td>piedi</td>\n      <td>sì</td>\n      <td>sì</td>\n      <td>no, mi sento sicuro solo con il mezzo privato</td>\n      <td>sì, ma solo per alcuni giorni a settimana/al mese</td>\n      <td>NaN</td>\n      <td>45.469897</td>\n      <td>9.235276</td>\n    </tr>\n    <tr>\n      <th>3</th>\n      <td>femmina</td>\n      <td>fra 41 e 50 anni</td>\n      <td>Corso di Porta Vittoria, 32, 20122 Milano MI, ...</td>\n      <td>4</td>\n      <td>no</td>\n      <td>impiegato/operaio/collaboratore occasionale/st...</td>\n      <td>sì</td>\n      <td>sì</td>\n      <td>assunto a tempo indeterminato</td>\n      <td>part time orizzontale</td>\n      <td>...</td>\n      <td>sì</td>\n      <td>sì</td>\n      <td>trasporto pubblico locale</td>\n      <td>no</td>\n      <td>sì</td>\n      <td>sì, utilizzerei il trasporto pubblico al posto...</td>\n      <td>sì, ma solo per alcuni giorni a settimana/al mese</td>\n      <td>NaN</td>\n      <td>45.461996</td>\n      <td>9.203025</td>\n    </tr>\n    <tr>\n      <th>4</th>\n      <td>femmina</td>\n      <td>fra 31 e 40 anni</td>\n      <td>Viale Sabotino, 14, 20135 Milano MI, Italia</td>\n      <td>1</td>\n      <td>no</td>\n      <td>impiegato/operaio/collaboratore occasionale/st...</td>\n      <td>sì</td>\n      <td>sì</td>\n      <td>assunto a tempo indeterminato</td>\n      <td>full time 5 giorni a settimana</td>\n      <td>...</td>\n      <td>sì</td>\n      <td>sì</td>\n      <td>bici/monopattino</td>\n      <td>sì</td>\n      <td>sì</td>\n      <td>non posseggo un’automobile</td>\n      <td>sì, ma solo per alcuni giorni a settimana/al mese</td>\n      <td>NaN</td>\n      <td>45.45077</td>\n      <td>9.199955</td>\n    </tr>\n  </tbody>\n</table>\n<p>5 rows × 92 columns</p>\n</div>"
     },
     "execution_count": 5,
     "metadata": {},
     "output_type": "execute_result"
    }
   ],
   "source": [
    "data.head()"
   ]
  },
  {
   "cell_type": "code",
   "execution_count": null,
   "id": "10779e06",
   "metadata": {
    "pycharm": {
     "name": "#%%\n"
    }
   },
   "outputs": [],
   "source": [
    "rawColumns = data.columns.to_list()\n",
    "a = columnsInEnglish[17]\n",
    "a.count(\".\")"
   ]
  },
  {
   "cell_type": "code",
   "execution_count": null,
   "id": "3e96a475",
   "metadata": {
    "pycharm": {
     "name": "#%%\n"
    }
   },
   "outputs": [],
   "source": [
    "rawColumns = data.columns.to_list()\n",
    "\n",
    "for index in range(len(columnsInEnglish)):\n",
    "    print(columnsInEnglish[index])\n",
    "    \n",
    "    try:\n",
    "        if (rawColumns[index].replace(\",\", \".\") == columnsInEnglish[index][0:3]) and columnsInEnglish[index].count(\".\") <=1:\n",
    "            print(rawColumns[index])\n",
    "            print(f\"Unique values are {data.iloc[:, index].nunique()}\")\n",
    "    except IndexError:\n",
    "        pass\n",
    "    print(\"\")"
   ]
  }
 ],
 "metadata": {
  "kernelspec": {
   "display_name": "Python 3",
   "language": "python",
   "name": "python3"
  },
  "language_info": {
   "codemirror_mode": {
    "name": "ipython",
    "version": 3
   },
   "file_extension": ".py",
   "mimetype": "text/x-python",
   "name": "python",
   "nbconvert_exporter": "python",
   "pygments_lexer": "ipython3",
   "version": "3.7.0"
  }
 },
 "nbformat": 4,
 "nbformat_minor": 5
}